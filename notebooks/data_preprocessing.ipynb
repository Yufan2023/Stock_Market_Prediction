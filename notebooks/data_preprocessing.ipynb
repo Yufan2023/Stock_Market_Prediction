{
 "cells": [
  {
   "cell_type": "markdown",
   "metadata": {},
   "source": [
    "# Data Preprocessing\n",
    "This notebook handles downloading, cleaning, and preparing data for the LSTM model."
   ]
  },
  {
   "cell_type": "code",
   "execution_count": null,
   "metadata": {},
   "outputs": [],
   "source": [
    "import pandas as pd\n",
    "import numpy as np\n",
    "import yfinance as yf\n",
    "from sklearn.preprocessing import MinMaxScaler\n",
    "from vaderSentiment.vaderSentiment import SentimentIntensityAnalyzer\n"
   ]
  },
  {
   "cell_type": "code",
   "execution_count": null,
   "metadata": {},
   "outputs": [],
   "source": [
    "tickers = {\n",
    "    \"TD_Close\": \"TD.TO\",\n",
    "    \"BMO_Close\": \"BMO.TO\",\n",
    "    \"RBC_Close\": \"RY.TO\",\n",
    "    \"BNS_Close\": \"BNS.TO\",\n",
    "    \"Financials_Close\": \"XLF\"\n",
    "}\n",
    "economic_tickers = {\n",
    "    \"Interest_Rates\": \"^IRX\",\n",
    "    \"Volatility_Index\": \"^VIX\",\n",
    "    \"Bank_Index\": \"^BKX\",\n",
    "    \"SP500\": \"^GSPC\"\n",
    "}\n",
    "\n",
    "start_date = \"2015-01-01\"\n",
    "end_date = \"2024-01-01\"\n",
    "\n",
    "data = pd.DataFrame()\n",
    "for column_name, ticker in {**tickers, **economic_tickers}.items():\n",
    "    stock_data = yf.download(ticker, start=start_date, end=end_date)\n",
    "    data[column_name] = stock_data['Close']\n",
    "\n",
    "data.dropna(inplace=True)\n",
    "data.head()"
   ]
  },
  {
   "cell_type": "code",
   "execution_count": null,
   "metadata": {},
   "outputs": [],
   "source": [
    "# Moving averages\n",
    "data['TD_20_MA'] = data['TD_Close'].rolling(window=20).mean()\n",
    "data['TD_200_MA'] = data['TD_Close'].rolling(window=200).mean()\n",
    "\n",
    "# Sentiment analysis\n",
    "political_news = [\n",
    "    \"New policy to boost economic growth signed into law\",\n",
    "    \"Political unrest causes market uncertainty\",\n",
    "    \"Election results indicate stable government\",\n",
    "    \"Trade agreement reached between major countries\"\n",
    "]\n",
    "analyzer = SentimentIntensityAnalyzer()\n",
    "sentiment_scores = [analyzer.polarity_scores(news)['compound'] for news in political_news]\n",
    "sentiment_dates = pd.date_range(start='2023-01-01', periods=len(sentiment_scores), freq='ME')\n",
    "\n",
    "sentiment_df = pd.DataFrame({'Date': sentiment_dates, 'Sentiment_Score': sentiment_scores})\n",
    "data = pd.merge(data.reset_index(), sentiment_df, on='Date', how='left').fillna(0)\n",
    "\n",
    "# Event indicators\n",
    "political_events = pd.DataFrame({\n",
    "    'Date': pd.to_datetime([\n",
    "        '2020-11-03', '2021-01-20', '2022-11-08', \n",
    "        '2016-06-23', '2017-01-20', '2019-12-12'\n",
    "    ]),\n",
    "    'Event_Indicator': 1\n",
    "})\n",
    "data = pd.merge(data, political_events, on='Date', how='left').fillna(0)"
   ]
  },
  {
   "cell_type": "code",
   "execution_count": null,
   "metadata": {},
   "outputs": [],
   "source": [
    "# Normalize data\n",
    "scaler = MinMaxScaler(feature_range=(0, 1))\n",
    "data_scaled = scaler.fit_transform(data.drop(columns=['Date']))\n",
    "data_scaled_df = pd.DataFrame(data_scaled, columns=data.columns[1:])\n",
    "\n",
    "# Save preprocessed data\n",
    "data_scaled_df.to_csv('../data/preprocessed_data.csv', index=False)"
   ]
  }
 ],
 "metadata": {
  "kernelspec": {
   "display_name": "Python 3",
   "language": "python",
   "name": "python3"
  },
  "language_info": {
   "name": "python",
   "version": "3.8"
  }
 },
 "nbformat": 4,
 "nbformat_minor": 5
}
