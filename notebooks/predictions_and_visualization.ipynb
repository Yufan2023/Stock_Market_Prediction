{
 "cells": [
  {
   "cell_type": "markdown",
   "metadata": {},
   "source": [
    "# Predictions and Visualization\n",
    "This notebook generates predictions using the trained LSTM model and visualizes the results."
   ]
  },
  {
   "cell_type": "code",
   "execution_count": null,
   "metadata": {},
   "outputs": [],
   "source": [
    "import pandas as pd\n",
    "import numpy as np\n",
    "import matplotlib.pyplot as plt\n",
    "from tensorflow.keras.models import load_model\n",
    "\n",
    "# Load the model and data\n",
    "model = load_model('../data/lstm_model.h5')\n",
    "data = pd.read_csv('../data/preprocessed_data.csv')\n",
    "\n",
    "# Prepare test data\n",
    "sequence_length = 60\n",
    "X_test = np.array([data.iloc[i-sequence_length:i].values for i in range(sequence_length, len(data))])\n",
    "y_test = data.iloc[sequence_length:, 0].values\n",
    "\n",
    "# Make predictions\n",
    "y_pred = model.predict(X_test)\n",
    "\n",
    "# Visualize predictions vs actual values\n",
    "plt.figure(figsize=(14, 7))\n",
    "plt.plot(y_test, label='Actual Prices', color='blue')\n",
    "plt.plot(y_pred, label='Predicted Prices', color='red')\n",
    "plt.legend()\n",
    "plt.title('Actual vs Predicted Prices')\n",
    "plt.show()\n",
    "\n",
    "# Future predictions (optional)\n",
    "future_days = 30\n",
    "future_predictions = []\n",
    "last_sequence = X_test[-1]\n",
    "\n",
    "for _ in range(future_days):\n",
    "    next_pred = model.predict(last_sequence.reshape(1, sequence_length, X_test.shape[2]))\n",
    "    future_predictions.append(next_pred[0, 0])\n",
    "    last_sequence = np.append(last_sequence[1:], next_pred, axis=0)\n",
    "\n",
    "# Visualize future predictions\n",
    "plt.figure(figsize=(14, 7))\n",
    "plt.plot(range(len(y_test)), y_test, label='Actual Prices', color='blue')\n",
    "plt.plot(range(len(y_test), len(y_test) + future_days), future_predictions, label='Future Predictions', color='green')\n",
    "plt.legend()\n",
    "plt.title('Future Stock Price Predictions')\n",
    "plt.show()"
   ]
  }
 ],
 "metadata": {
  "kernelspec": {
   "display_name": "Python 3",
   "language": "python",
   "name": "python3"
  },
  "language_info": {
   "name": "python",
   "version": "3.8"
  }
 },
 "nbformat": 4,
 "nbformat_minor": 5
}
